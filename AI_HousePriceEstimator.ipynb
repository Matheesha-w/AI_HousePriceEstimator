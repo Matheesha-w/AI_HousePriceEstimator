{
 "cells": [
  {
   "cell_type": "markdown",
   "id": "1d3472c0-99cd-426d-a82e-e3dcbe86930e",
   "metadata": {},
   "source": [
    "# Predicting House prices"
   ]
  },
  {
   "cell_type": "markdown",
   "id": "26dac569-0c74-4df8-878b-8faa11ec2e15",
   "metadata": {},
   "source": [
    "# This script demonstrate a complete, simple machine learning workflow for predicting house prices using linear regression"
   ]
  },
  {
   "cell_type": "markdown",
   "id": "fe514afe-e1f9-4831-9d61-c7a3244719aa",
   "metadata": {},
   "source": [
    "## section 1"
   ]
  },
  {
   "cell_type": "code",
   "execution_count": 26,
   "id": "d5d9cba5-605e-4507-b97c-5e5ab0d25fd0",
   "metadata": {},
   "outputs": [
    {
     "name": "stdout",
     "output_type": "stream",
     "text": [
      "Libraries imported successfully\n",
      "**************************************************\n"
     ]
    }
   ],
   "source": [
    "# Section 1: Import  Libraries\n",
    "import pandas as pd\n",
    "import numpy as np\n",
    "\n",
    "from sklearn.model_selection import train_test_split\n",
    "from sklearn.linear_model import LinearRegression\n",
    "from sklearn.metrics import mean_squared_error, r2_score\n",
    "\n",
    "import matplotlib.pyplot as plt\n",
    "\n",
    "print(\"Libraries imported successfully\")\n",
    "print(\"*\" * 50)\n",
    "\n"
   ]
  },
  {
   "cell_type": "markdown",
   "id": "8f8f2b8b-3018-4c6a-9e3a-7bf9819a3d3a",
   "metadata": {},
   "source": [
    "## section 2"
   ]
  },
  {
   "cell_type": "code",
   "execution_count": 27,
   "id": "de21ccc7-0bda-416f-958c-ba138a077d6f",
   "metadata": {},
   "outputs": [
    {
     "name": "stdout",
     "output_type": "stream",
     "text": [
      "Generated a synthetic dataset with 100 entries\n",
      "First 10 rows of dataset\n",
      "     Size_sqft  Num_Bedrooms      Price_USD\n",
      "0  1718.984333             2  176548.547193\n",
      "1  1978.936339             3  271588.940423\n",
      "2  1924.627430             4  272804.798334\n",
      "3  1784.940735             4  227178.701815\n",
      "4  2658.872930             4  344350.346399\n",
      "5  2639.247664             5  413776.318178\n",
      "6  2862.466915             4  343070.265607\n",
      "7  1191.458658             3  210609.608625\n",
      "8  2549.933784             3  315289.083544\n",
      "9  2688.016097             4  304732.577391\n",
      "**************************************************\n"
     ]
    }
   ],
   "source": [
    "#Section 2: Generate Synthetic Data(If no real dataset is available)\n",
    "#Source of data in real project: csv or excel or text or database\n",
    "#For my hands-on project, I create a random dataset to endure code runs...\n",
    "\n",
    "num_houses = 100\n",
    "# Number of data points/houses we want to generate \n",
    "\n",
    "size_sqft = np.random.rand(num_houses) * 2200 + 800\n",
    "#Generate random square feet, e.g 800 to 3000 sqft\n",
    "#np = numpy,random.rand() generates numbers between 0 and 1\n",
    "\n",
    "num_bedrooms = np.random.randint(2,6,num_houses)\n",
    "#randint generates integers\n",
    "#generate number of bedrooms, e.g. 2 to 5 bedrooms\n",
    "\n",
    "random_noise = np.random.randn(num_houses)* 30000\n",
    "#Standard normal distribution * 30k\n",
    "#Random noise makes the data more realistic(not perfectly linear)\n",
    "\n",
    "#Formula to calculate price:\n",
    "#price = (size_sqft * 100) + (num_bedrooms*20000) + random_noise\n",
    "\n",
    "house_price_usd = (size_sqft * 100) + (num_bedrooms*20000) + random_noise\n",
    "\n",
    "#Create Pandas DataFrame from the generated data\n",
    "data = pd.DataFrame({\n",
    "    'Size_sqft' : size_sqft,\n",
    "    'Num_Bedrooms' : num_bedrooms,\n",
    "    'Price_USD' : house_price_usd\n",
    "})\n",
    "\n",
    "print(f\"Generated a synthetic dataset with {num_houses} entries\")\n",
    "print(\"First 10 rows of dataset\")\n",
    "print(data.head(10))\n",
    "print(\"*\" * 50)"
   ]
  },
  {
   "cell_type": "markdown",
   "id": "7acd41d0-e972-4ed3-a6b5-984f748e4859",
   "metadata": {},
   "source": [
    "# section 3"
   ]
  },
  {
   "cell_type": "code",
   "execution_count": 28,
   "id": "9918bf57-be3e-4cdd-84cf-077b23dc124a",
   "metadata": {},
   "outputs": [
    {
     "name": "stdout",
     "output_type": "stream",
     "text": [
      "Features (X) shape: (100, 2)\n",
      "Target (y) shape: (100,)\n",
      "**************************************************\n"
     ]
    }
   ],
   "source": [
    "#Section 3: Data Preparation - Defining Features (X) and (y)\n",
    "\n",
    "X = data[['Size_sqft','Num_Bedrooms']]\n",
    "#  select Size_sqft and number of bedrooms as  Features (input)\n",
    "\n",
    "y = data['Price_USD']\n",
    "# The price of the house is the target (output)\n",
    "\n",
    "print(\"Features (X) shape:\", X.shape)# Print shape of features DataFrame\n",
    "print(\"Target (y) shape:\", y.shape) # Print shape of target series\n",
    "print(\"*\" * 50)"
   ]
  },
  {
   "cell_type": "markdown",
   "id": "146e9173-ae1c-410c-ba2f-898bb767600e",
   "metadata": {},
   "source": [
    "# section 4"
   ]
  },
  {
   "cell_type": "code",
   "execution_count": 17,
   "id": "43dda75a-614b-4117-867c-592dfda3179b",
   "metadata": {},
   "outputs": [
    {
     "name": "stdout",
     "output_type": "stream",
     "text": [
      "Data split into training and testing sets:\n",
      "Training features (X_train) shape: (80, 2)\n",
      "Training features (X_test) shape: (20, 2)\n",
      "Training target (y_train) shape: (80,)\n",
      "Training target (y_test) shape: (20,)\n",
      "**************************************************\n"
     ]
    }
   ],
   "source": [
    "#Section 4: Data Preparation - Train-Test Split\n",
    "\n",
    "X_train, X_test, y_train, y_test = train_test_split(X, y, test_size=0.20, random_state=42)\n",
    "# Test Size is 20%, that is 80% for training the model\n",
    "# random state endures reproducibility(get the same split every time code runs)\n",
    "# train_test_split divides X and  y into training and testing sets\n",
    "\n",
    "print(f\"Data split into training and testing sets:\")\n",
    "print(f\"Training features (X_train) shape: {X_train.shape}\")\n",
    "print(f\"Training features (X_test) shape: {X_test.shape}\")\n",
    "print(f\"Training target (y_train) shape: {y_train.shape}\")\n",
    "print(f\"Training target (y_test) shape: {y_test.shape}\")\n",
    "print(\"*\" * 50)\n"
   ]
  },
  {
   "cell_type": "markdown",
   "id": "53271bf9-c4a4-45df-8a4d-3fd5d17d7a80",
   "metadata": {},
   "source": [
    "# section 5"
   ]
  },
  {
   "cell_type": "code",
   "execution_count": 29,
   "id": "f1743b1c-0208-4c6f-abe0-a783b741ab31",
   "metadata": {},
   "outputs": [
    {
     "name": "stdout",
     "output_type": "stream",
     "text": [
      "Linear Regression Model Initialized!\n",
      "**************************************************\n"
     ]
    }
   ],
   "source": [
    "#Section 5: Model Building - Initialize Linear Regression Model \n",
    "\n",
    "model = LinearRegression()\n",
    "#  create an instance of the linearRegression Model from Sci-kit learn\n",
    "# This object will learn the relationship between features and target\n",
    "\n",
    "print(\"Linear Regression Model Initialized!\")\n",
    "print(\"*\" * 50)\n"
   ]
  },
  {
   "cell_type": "markdown",
   "id": "326ffd7a-ab7a-479c-a1d7-b023209bad72",
   "metadata": {},
   "source": [
    "# section 6"
   ]
  },
  {
   "cell_type": "code",
   "execution_count": 30,
   "id": "7360b231-4fa1-4e64-a3a4-ab30eccfb552",
   "metadata": {},
   "outputs": [
    {
     "name": "stdout",
     "output_type": "stream",
     "text": [
      "Training the Linear Regression model...\n",
      "Model Training Complete!\n",
      "Learned Coefficients (Slopes for Size_sqft, Num_Bedrooms): [   95.83988832 22858.73310986]\n",
      "Learned Intercept (Bias): -1316.1710873665288\n",
      "**************************************************\n"
     ]
    }
   ],
   "source": [
    "#Section 6: Model Training - Fitting the Model to the Data\n",
    "\n",
    "print(\"Training the Linear Regression model...\")\n",
    "model.fit(X_train, y_train)\n",
    "print(\"Model Training Complete!\")\n",
    "\n",
    "#  inspect the Learned coefficients and intercepts after training\n",
    "print(f\"Learned Coefficients (Slopes for Size_sqft, Num_Bedrooms): {model.coef_}\")\n",
    "print(f\"Learned Intercept (Bias): {model.intercept_}\")\n",
    "print(\"*\" * 50)\n"
   ]
  },
  {
   "cell_type": "markdown",
   "id": "c430eb1d-e92d-4f2c-b5bb-a613f3db4c57",
   "metadata": {},
   "source": [
    "# section 7 "
   ]
  },
  {
   "cell_type": "code",
   "execution_count": 21,
   "id": "5199997d-353c-4133-93b1-f848c7e662a5",
   "metadata": {},
   "outputs": [
    {
     "name": "stdout",
     "output_type": "stream",
     "text": [
      "Making predictions on the test set...\n",
      "Predictions Made Successfully!\n",
      "\n",
      "First 10 Actual vs. Predicted Prices:\n",
      "Actual: $189,559.88 | Predicted: $181,780.66\n",
      "Actual: $168,340.03 | Predicted: $206,406.56\n",
      "Actual: $208,603.17 | Predicted: $223,244.46\n",
      "Actual: $351,816.92 | Predicted: $371,331.80\n",
      "Actual: $190,268.18 | Predicted: $192,145.64\n",
      "Actual: $223,043.92 | Predicted: $212,005.10\n",
      "Actual: $286,041.70 | Predicted: $308,079.84\n",
      "Actual: $189,480.77 | Predicted: $211,548.00\n",
      "Actual: $186,594.93 | Predicted: $189,193.66\n",
      "Actual: $330,111.15 | Predicted: $290,698.20\n",
      "**************************************************\n"
     ]
    }
   ],
   "source": [
    "#Section 7: Model Prediction - Moking Forecasts on unseen data\n",
    "\n",
    "print(\"Making predictions on the test set...\")\n",
    "y_pred = model.predict(X_test)\n",
    "print(\"Predictions Made Successfully!\")\n",
    "\n",
    "print(\"\\nFirst 10 Actual vs. Predicted Prices:\")\n",
    "for i in range(10):\n",
    "    print(f\"Actual: ${y_test.iloc[i]:,.2f} | Predicted: ${y_pred[i]:,.2f}\")\n",
    "print(\"*\" * 50)"
   ]
  },
  {
   "cell_type": "markdown",
   "id": "eb4e62a0-c867-4172-8f55-505c5335759f",
   "metadata": {},
   "source": [
    "# section 8"
   ]
  },
  {
   "cell_type": "code",
   "execution_count": 22,
   "id": "33d6c672-050a-47df-aaf9-7931ecb9d588",
   "metadata": {},
   "outputs": [
    {
     "name": "stdout",
     "output_type": "stream",
     "text": [
      "Mean Squared Error (MSE): 370,314,883.87\n",
      "R-squared (R2 Score): 0.92\n",
      "\n",
      "Great Job! The model explains a good portion of the variance in house prices\n",
      "**************************************************\n"
     ]
    }
   ],
   "source": [
    "#Section 8 - Model Evaluation - Assessing performance\n",
    "\n",
    "# 8.1 Mean Squared Error (MSE)\n",
    "mse = mean_squared_error(y_test, y_pred)\n",
    "print(f\"Mean Squared Error (MSE): {mse:,.2f}\")\n",
    "\n",
    "# 8.2 R-Squared (R2 Scored)\n",
    "r2 = r2_score(y_test, y_pred)\n",
    "print(f\"R-squared (R2 Score): {r2:,.2f}\")\n",
    "\n",
    "if r2 > 0.7:\n",
    "    print(\"\\nGreat Job! The model explains a good portion of the variance in house prices\")\n",
    "else:\n",
    "    print(\"\\nGood start! There's always room for improvement... e.g. More features? Different model?\")\n",
    "print(\"*\" * 50)\n"
   ]
  },
  {
   "cell_type": "markdown",
   "id": "092e6e34-46da-4104-a502-15ed830479c9",
   "metadata": {},
   "source": [
    "# Section 9"
   ]
  },
  {
   "cell_type": "code",
   "execution_count": 23,
   "id": "fafe2c2d-f338-4e08-8f62-1b974d2eccf5",
   "metadata": {},
   "outputs": [
    {
     "name": "stdout",
     "output_type": "stream",
     "text": [
      "Predicting price of a new custom house:\n",
      "House Size: 1800 sqft,Bedrooms: 3 -> Predicted Price: $239,771.83\n",
      "House Size: 2500 sqft,Bedrooms: 4 -> Predicted Price: $329,718.48\n",
      "House Size: 1200 sqft,Bedrooms: 2 -> Predicted Price: $159,409.16\n",
      "**************************************************\n"
     ]
    }
   ],
   "source": [
    "#Section 9 - Prediction on New, Custom Data (Real-World Application)\n",
    "\n",
    "#Time to predict price of a new house\n",
    "print(\"Predicting price of a new custom house:\")\n",
    "new_house_data = pd.DataFrame({\n",
    "    'Size_sqft' : [1800, 2500, 1200], # Example: a 1800 sq ft, 2500 sq ft, 1200 sq ft house\n",
    "    'Num_Bedrooms' : [3,4,2]          # Example: with 3, 4, 2 bedrooms respectively\n",
    "})\n",
    "\n",
    "predicted_new_prices = model.predict(new_house_data)\n",
    "\n",
    "for i, (size, beds) in enumerate(zip(new_house_data['Size_sqft'], new_house_data['Num_Bedrooms'])):\n",
    "    print(f\"House Size: {size} sqft,Bedrooms: {beds} -> Predicted Price: ${predicted_new_prices[i]:,.2f}\")\n",
    "print(\"*\" * 50)"
   ]
  },
  {
   "cell_type": "markdown",
   "id": "7e0e30a2-c423-4ee4-9a43-0817d82ae416",
   "metadata": {},
   "source": [
    "# Section 10"
   ]
  },
  {
   "cell_type": "code",
   "execution_count": 31,
   "id": "df7c936d-bd8d-4c3c-b075-a7f869ebc935",
   "metadata": {},
   "outputs": [
    {
     "data": {
      "image/png": "[encoded data removed]",
      "text/plain": [
       "<Figure size 1000x600 with 1 Axes>"
      ]
     },
     "metadata": {},
     "output_type": "display_data"
    }
   ],
   "source": [
    "#Section 10 - Optional: Visualization of Predictions\n",
    "\n",
    "# Plot line for simple Linear Regression (one feature)\n",
    "# For multiple features, we can plot actual vs predicted values\n",
    "plt.figure(figsize=(10,6))\n",
    "plt.scatter(y_test, y_pred, alpha=0.7, color='cyan', label='Actual vs Predicted')\n",
    "plt.plot([y_test.min(), y_test.max()], [y_test.min(), y_test.max()], 'r--', lw=2, label='Perfect Prediction Line')\n",
    "\n",
    "plt.xlabel(\"Actual House Prices (USD)\")\n",
    "plt.ylabel(\"Predicted House Prices (USD)\")\n",
    "\n",
    "plt.title(\"Actual vs. Predicted House Prices (Test Set)\")\n",
    "\n",
    "plt.grid(True, linestyle='--', alpha=0.6)\n",
    "plt.legend()\n",
    "plt.tight_layout()\n",
    "plt.show()\n",
    "\n",
    "\n",
    "\n"
   ]
  }
 ],
 "metadata": {
  "kernelspec": {
   "display_name": "Python 3 (ipykernel)",
   "language": "python",
   "name": "python3"
  },
  "language_info": {
   "codemirror_mode": {
    "name": "ipython",
    "version": 3
   },
   "file_extension": ".py",
   "mimetype": "text/x-python",
   "name": "python",
   "nbconvert_exporter": "python",
   "pygments_lexer": "ipython3",
   "version": "3.13.5"
  }
 },
 "nbformat": 4,
 "nbformat_minor": 5
}
